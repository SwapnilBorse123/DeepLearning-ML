{
 "cells": [
  {
   "cell_type": "markdown",
   "metadata": {},
   "source": [
    "### Iris Dataset "
   ]
  },
  {
   "cell_type": "code",
   "execution_count": 1,
   "metadata": {},
   "outputs": [],
   "source": [
    "# Importing the libraries\n",
    "import numpy as np\n",
    "import pandas as pd\n",
    "import pandas_profiling"
   ]
  },
  {
   "cell_type": "code",
   "execution_count": 2,
   "metadata": {},
   "outputs": [],
   "source": [
    "df = pd.read_csv('iris_data.csv', index_col=False, header=0)"
   ]
  },
  {
   "cell_type": "code",
   "execution_count": 3,
   "metadata": {},
   "outputs": [],
   "source": [
    "profile = pandas_profiling.ProfileReport(df)\n",
    "profile.to_file(outputfile=\"./iris_report.html\")"
   ]
  },
  {
   "cell_type": "code",
   "execution_count": 4,
   "metadata": {
    "scrolled": true
   },
   "outputs": [
    {
     "data": {
      "text/html": [
       "<div>\n",
       "<style scoped>\n",
       "    .dataframe tbody tr th:only-of-type {\n",
       "        vertical-align: middle;\n",
       "    }\n",
       "\n",
       "    .dataframe tbody tr th {\n",
       "        vertical-align: top;\n",
       "    }\n",
       "\n",
       "    .dataframe thead th {\n",
       "        text-align: right;\n",
       "    }\n",
       "</style>\n",
       "<table border=\"1\" class=\"dataframe\">\n",
       "  <thead>\n",
       "    <tr style=\"text-align: right;\">\n",
       "      <th></th>\n",
       "      <th>sep-len</th>\n",
       "      <th>sep-wid</th>\n",
       "      <th>pet-len</th>\n",
       "      <th>pet-wid</th>\n",
       "      <th>label</th>\n",
       "    </tr>\n",
       "  </thead>\n",
       "  <tbody>\n",
       "    <tr>\n",
       "      <th>0</th>\n",
       "      <td>5.1</td>\n",
       "      <td>3.5</td>\n",
       "      <td>1.4</td>\n",
       "      <td>0.2</td>\n",
       "      <td>Iris-setosa</td>\n",
       "    </tr>\n",
       "    <tr>\n",
       "      <th>1</th>\n",
       "      <td>4.9</td>\n",
       "      <td>3.0</td>\n",
       "      <td>1.4</td>\n",
       "      <td>0.2</td>\n",
       "      <td>Iris-setosa</td>\n",
       "    </tr>\n",
       "    <tr>\n",
       "      <th>2</th>\n",
       "      <td>4.7</td>\n",
       "      <td>3.2</td>\n",
       "      <td>1.3</td>\n",
       "      <td>0.2</td>\n",
       "      <td>Iris-setosa</td>\n",
       "    </tr>\n",
       "    <tr>\n",
       "      <th>3</th>\n",
       "      <td>4.6</td>\n",
       "      <td>3.1</td>\n",
       "      <td>1.5</td>\n",
       "      <td>0.2</td>\n",
       "      <td>Iris-setosa</td>\n",
       "    </tr>\n",
       "    <tr>\n",
       "      <th>4</th>\n",
       "      <td>5.0</td>\n",
       "      <td>3.6</td>\n",
       "      <td>1.4</td>\n",
       "      <td>0.2</td>\n",
       "      <td>Iris-setosa</td>\n",
       "    </tr>\n",
       "  </tbody>\n",
       "</table>\n",
       "</div>"
      ],
      "text/plain": [
       "   sep-len  sep-wid  pet-len  pet-wid        label\n",
       "0      5.1      3.5      1.4      0.2  Iris-setosa\n",
       "1      4.9      3.0      1.4      0.2  Iris-setosa\n",
       "2      4.7      3.2      1.3      0.2  Iris-setosa\n",
       "3      4.6      3.1      1.5      0.2  Iris-setosa\n",
       "4      5.0      3.6      1.4      0.2  Iris-setosa"
      ]
     },
     "execution_count": 4,
     "metadata": {},
     "output_type": "execute_result"
    }
   ],
   "source": [
    "df.head()"
   ]
  },
  {
   "cell_type": "code",
   "execution_count": 5,
   "metadata": {},
   "outputs": [
    {
     "name": "stderr",
     "output_type": "stream",
     "text": [
      "/home/imcoolswap/anaconda2/envs/pyDL/lib/python3.5/site-packages/h5py/__init__.py:36: FutureWarning: Conversion of the second argument of issubdtype from `float` to `np.floating` is deprecated. In future, it will be treated as `np.float64 == np.dtype(float).type`.\n",
      "  from ._conv import register_converters as _register_converters\n",
      "Using TensorFlow backend.\n"
     ]
    }
   ],
   "source": [
    "from sklearn.preprocessing import LabelEncoder, OneHotEncoder\n",
    "from sklearn.metrics import confusion_matrix\n",
    "from keras.utils import np_utils"
   ]
  },
  {
   "cell_type": "code",
   "execution_count": 6,
   "metadata": {},
   "outputs": [],
   "source": [
    "df = df.sample(frac=1).reset_index(drop=True)"
   ]
  },
  {
   "cell_type": "code",
   "execution_count": 7,
   "metadata": {},
   "outputs": [],
   "source": [
    "X = df.iloc[:,0:4].values\n",
    "y_labels = df.iloc[:, 4:5].values"
   ]
  },
  {
   "cell_type": "code",
   "execution_count": 9,
   "metadata": {},
   "outputs": [
    {
     "name": "stderr",
     "output_type": "stream",
     "text": [
      "/home/imcoolswap/anaconda2/envs/pyDL/lib/python3.5/site-packages/sklearn/preprocessing/label.py:111: DataConversionWarning: A column-vector y was passed when a 1d array was expected. Please change the shape of y to (n_samples, ), for example using ravel().\n",
      "  y = column_or_1d(y, warn=True)\n"
     ]
    }
   ],
   "source": [
    "labelencoder_y_1 = LabelEncoder()\n",
    "y_label_encoded = labelencoder_y_1.fit_transform(y_labels)"
   ]
  },
  {
   "cell_type": "code",
   "execution_count": 10,
   "metadata": {},
   "outputs": [
    {
     "data": {
      "text/plain": [
       "array([2, 0, 0, 0, 0, 0, 1, 1, 1, 0, 2, 0, 1, 2, 0, 1, 1, 2, 2, 2, 1, 0,\n",
       "       1, 1, 2, 2, 1, 2, 1, 1, 0, 1, 1, 0, 2, 2, 0, 1, 0, 2, 1, 0, 2, 1,\n",
       "       2, 1, 2, 1, 1, 2, 2, 1, 0, 0, 1, 1, 1, 2, 1, 1, 0, 0, 1, 1, 0, 1,\n",
       "       1, 2, 0, 1, 0, 2, 0, 0, 1, 0, 2, 2, 2, 0, 1, 2, 0, 2, 1, 2, 2, 0,\n",
       "       1, 2, 2, 0, 2, 1, 2, 1, 1, 2, 1, 2, 0, 0, 2, 1, 0, 0, 2, 1, 0, 2,\n",
       "       2, 2, 0, 0, 0, 1, 0, 2, 1, 2, 1, 2, 0, 0, 2, 0, 2, 1, 1, 0, 2, 0,\n",
       "       2, 0, 0, 2, 2, 1, 0, 2, 1, 0, 0, 2, 1, 0, 2, 0, 1, 0])"
      ]
     },
     "execution_count": 10,
     "metadata": {},
     "output_type": "execute_result"
    }
   ],
   "source": [
    "#onehotencoder = OneHotEncoder(categorical_features = [0])\n",
    "#y = onehotencoder.fit_transform(y_label_encoded).toarray()\n",
    "y_label_encoded"
   ]
  },
  {
   "cell_type": "code",
   "execution_count": 11,
   "metadata": {},
   "outputs": [],
   "source": [
    "y = np_utils.to_categorical(y_label_encoded)"
   ]
  },
  {
   "cell_type": "code",
   "execution_count": 12,
   "metadata": {},
   "outputs": [
    {
     "name": "stderr",
     "output_type": "stream",
     "text": [
      "/home/imcoolswap/anaconda2/envs/pyDL/lib/python3.5/site-packages/sklearn/cross_validation.py:41: DeprecationWarning: This module was deprecated in version 0.18 in favor of the model_selection module into which all the refactored classes and functions are moved. Also note that the interface of the new CV iterators are different from that of this module. This module will be removed in 0.20.\n",
      "  \"This module will be removed in 0.20.\", DeprecationWarning)\n"
     ]
    }
   ],
   "source": [
    "# Splitting the dataset into the Training set and Test set\n",
    "from sklearn.cross_validation import train_test_split"
   ]
  },
  {
   "cell_type": "code",
   "execution_count": 13,
   "metadata": {},
   "outputs": [],
   "source": [
    "X_train, X_test, y_train, y_test = train_test_split(X, y, test_size = 0.20, random_state = 0)"
   ]
  },
  {
   "cell_type": "code",
   "execution_count": 14,
   "metadata": {},
   "outputs": [],
   "source": [
    "# Feature Scaling\n",
    "from sklearn.preprocessing import StandardScaler\n",
    "sc = StandardScaler()"
   ]
  },
  {
   "cell_type": "code",
   "execution_count": 15,
   "metadata": {},
   "outputs": [],
   "source": [
    "X_train = sc.fit_transform(X_train)\n",
    "X_test = sc.transform(X_test)"
   ]
  },
  {
   "cell_type": "markdown",
   "metadata": {},
   "source": [
    "### Making the Neural Network"
   ]
  },
  {
   "cell_type": "code",
   "execution_count": 16,
   "metadata": {},
   "outputs": [],
   "source": [
    "\n",
    "# Importing the Keras libraries and packages\n",
    "import keras\n",
    "from keras.models import Sequential\n",
    "from keras.layers import Dense"
   ]
  },
  {
   "cell_type": "code",
   "execution_count": 17,
   "metadata": {},
   "outputs": [],
   "source": [
    "# Initialising the ANN\n",
    "classifier = Sequential()"
   ]
  },
  {
   "cell_type": "markdown",
   "metadata": {},
   "source": [
    "The architecture for the neural network is: \n",
    "Input Layer: 4 neurons\n",
    "Hidden Layer: 10 neurons Activation: ReLU\n",
    "Output Layer: 3 neurons Activation: Softmax\n"
   ]
  },
  {
   "cell_type": "code",
   "execution_count": 18,
   "metadata": {},
   "outputs": [
    {
     "name": "stderr",
     "output_type": "stream",
     "text": [
      "/home/imcoolswap/anaconda2/envs/pyDL/lib/python3.5/site-packages/ipykernel/__main__.py:2: UserWarning: Update your `Dense` call to the Keras 2 API: `Dense(kernel_initializer=\"uniform\", units=10, activation=\"relu\", input_dim=4)`\n",
      "  from ipykernel import kernelapp as app\n"
     ]
    }
   ],
   "source": [
    "# Adding the input layer and the first hidden layer\n",
    "classifier.add(Dense(output_dim = 10, init = 'uniform', activation = 'relu', input_dim = 4))"
   ]
  },
  {
   "cell_type": "code",
   "execution_count": 19,
   "metadata": {},
   "outputs": [],
   "source": [
    "# Adding the second hidden layer\n",
    "#classifier.add(Dense(output_dim = 4, init = 'uniform', activation = 'relu'))"
   ]
  },
  {
   "cell_type": "code",
   "execution_count": 20,
   "metadata": {},
   "outputs": [
    {
     "name": "stderr",
     "output_type": "stream",
     "text": [
      "/home/imcoolswap/anaconda2/envs/pyDL/lib/python3.5/site-packages/ipykernel/__main__.py:2: UserWarning: Update your `Dense` call to the Keras 2 API: `Dense(kernel_initializer=\"uniform\", units=3, activation=\"softmax\")`\n",
      "  from ipykernel import kernelapp as app\n"
     ]
    }
   ],
   "source": [
    "# Adding the output layer\n",
    "classifier.add(Dense(output_dim = 3, init = 'uniform', activation = 'softmax'))"
   ]
  },
  {
   "cell_type": "code",
   "execution_count": 21,
   "metadata": {},
   "outputs": [],
   "source": [
    "# Compiling the ANN [using binary since we have two possible prediction values]\n",
    "classifier.compile(optimizer = 'adam', loss = 'categorical_crossentropy', metrics = ['accuracy'])"
   ]
  },
  {
   "cell_type": "code",
   "execution_count": 22,
   "metadata": {},
   "outputs": [
    {
     "name": "stdout",
     "output_type": "stream",
     "text": [
      "Epoch 1/150\n",
      "120/120 [==============================] - 0s 2ms/step - loss: 1.0934 - acc: 0.7000\n",
      "Epoch 2/150\n",
      "120/120 [==============================] - 0s 372us/step - loss: 1.0789 - acc: 0.7083\n",
      "Epoch 3/150\n",
      "120/120 [==============================] - 0s 403us/step - loss: 1.0463 - acc: 0.7083\n",
      "Epoch 4/150\n",
      "120/120 [==============================] - 0s 370us/step - loss: 0.9872 - acc: 0.7083\n",
      "Epoch 5/150\n",
      "120/120 [==============================] - 0s 389us/step - loss: 0.9065 - acc: 0.7083\n",
      "Epoch 6/150\n",
      "120/120 [==============================] - 0s 371us/step - loss: 0.8138 - acc: 0.7083\n",
      "Epoch 7/150\n",
      "120/120 [==============================] - 0s 398us/step - loss: 0.7264 - acc: 0.7083\n",
      "Epoch 8/150\n",
      "120/120 [==============================] - 0s 398us/step - loss: 0.6492 - acc: 0.7083\n",
      "Epoch 9/150\n",
      "120/120 [==============================] - 0s 364us/step - loss: 0.5931 - acc: 0.7083\n",
      "Epoch 10/150\n",
      "120/120 [==============================] - 0s 384us/step - loss: 0.5459 - acc: 0.7083\n",
      "Epoch 11/150\n",
      "120/120 [==============================] - 0s 354us/step - loss: 0.5116 - acc: 0.7167\n",
      "Epoch 12/150\n",
      "120/120 [==============================] - 0s 379us/step - loss: 0.4852 - acc: 0.7167\n",
      "Epoch 13/150\n",
      "120/120 [==============================] - 0s 373us/step - loss: 0.4631 - acc: 0.7333\n",
      "Epoch 14/150\n",
      "120/120 [==============================] - 0s 419us/step - loss: 0.4456 - acc: 0.7333\n",
      "Epoch 15/150\n",
      "120/120 [==============================] - 0s 352us/step - loss: 0.4304 - acc: 0.7333\n",
      "Epoch 16/150\n",
      "120/120 [==============================] - 0s 330us/step - loss: 0.4167 - acc: 0.7500\n",
      "Epoch 17/150\n",
      "120/120 [==============================] - 0s 418us/step - loss: 0.4047 - acc: 0.7750\n",
      "Epoch 18/150\n",
      "120/120 [==============================] - 0s 393us/step - loss: 0.3940 - acc: 0.8000\n",
      "Epoch 19/150\n",
      "120/120 [==============================] - 0s 331us/step - loss: 0.3852 - acc: 0.8000\n",
      "Epoch 20/150\n",
      "120/120 [==============================] - 0s 385us/step - loss: 0.3732 - acc: 0.8167\n",
      "Epoch 21/150\n",
      "120/120 [==============================] - 0s 417us/step - loss: 0.3646 - acc: 0.8167\n",
      "Epoch 22/150\n",
      "120/120 [==============================] - 0s 384us/step - loss: 0.3595 - acc: 0.8167\n",
      "Epoch 23/150\n",
      "120/120 [==============================] - 0s 368us/step - loss: 0.3474 - acc: 0.8333\n",
      "Epoch 24/150\n",
      "120/120 [==============================] - 0s 396us/step - loss: 0.3399 - acc: 0.8417\n",
      "Epoch 25/150\n",
      "120/120 [==============================] - 0s 400us/step - loss: 0.3311 - acc: 0.8417\n",
      "Epoch 26/150\n",
      "120/120 [==============================] - 0s 371us/step - loss: 0.3233 - acc: 0.8417\n",
      "Epoch 27/150\n",
      "120/120 [==============================] - 0s 358us/step - loss: 0.3160 - acc: 0.8500\n",
      "Epoch 28/150\n",
      "120/120 [==============================] - 0s 415us/step - loss: 0.3101 - acc: 0.8500\n",
      "Epoch 29/150\n",
      "120/120 [==============================] - 0s 377us/step - loss: 0.3031 - acc: 0.8583\n",
      "Epoch 30/150\n",
      "120/120 [==============================] - 0s 443us/step - loss: 0.2966 - acc: 0.8667\n",
      "Epoch 31/150\n",
      "120/120 [==============================] - 0s 345us/step - loss: 0.2901 - acc: 0.8667\n",
      "Epoch 32/150\n",
      "120/120 [==============================] - 0s 370us/step - loss: 0.2842 - acc: 0.8667\n",
      "Epoch 33/150\n",
      "120/120 [==============================] - 0s 417us/step - loss: 0.2778 - acc: 0.8833\n",
      "Epoch 34/150\n",
      "120/120 [==============================] - 0s 380us/step - loss: 0.2726 - acc: 0.8917\n",
      "Epoch 35/150\n",
      "120/120 [==============================] - 0s 394us/step - loss: 0.2673 - acc: 0.8917\n",
      "Epoch 36/150\n",
      "120/120 [==============================] - 0s 366us/step - loss: 0.2614 - acc: 0.9000\n",
      "Epoch 37/150\n",
      "120/120 [==============================] - 0s 398us/step - loss: 0.2564 - acc: 0.9000\n",
      "Epoch 38/150\n",
      "120/120 [==============================] - 0s 390us/step - loss: 0.2513 - acc: 0.9000\n",
      "Epoch 39/150\n",
      "120/120 [==============================] - 0s 356us/step - loss: 0.2457 - acc: 0.9083\n",
      "Epoch 40/150\n",
      "120/120 [==============================] - 0s 385us/step - loss: 0.2416 - acc: 0.9083\n",
      "Epoch 41/150\n",
      "120/120 [==============================] - 0s 389us/step - loss: 0.2359 - acc: 0.9167\n",
      "Epoch 42/150\n",
      "120/120 [==============================] - 0s 404us/step - loss: 0.2316 - acc: 0.9250\n",
      "Epoch 43/150\n",
      "120/120 [==============================] - 0s 316us/step - loss: 0.2277 - acc: 0.9250\n",
      "Epoch 44/150\n",
      "120/120 [==============================] - 0s 395us/step - loss: 0.2223 - acc: 0.9250\n",
      "Epoch 45/150\n",
      "120/120 [==============================] - 0s 382us/step - loss: 0.2173 - acc: 0.9250\n",
      "Epoch 46/150\n",
      "120/120 [==============================] - 0s 392us/step - loss: 0.2130 - acc: 0.9250\n",
      "Epoch 47/150\n",
      "120/120 [==============================] - 0s 369us/step - loss: 0.2099 - acc: 0.9250\n",
      "Epoch 48/150\n",
      "120/120 [==============================] - 0s 407us/step - loss: 0.2051 - acc: 0.9250\n",
      "Epoch 49/150\n",
      "120/120 [==============================] - 0s 386us/step - loss: 0.1997 - acc: 0.9417\n",
      "Epoch 50/150\n",
      "120/120 [==============================] - 0s 382us/step - loss: 0.1961 - acc: 0.9333\n",
      "Epoch 51/150\n",
      "120/120 [==============================] - 0s 412us/step - loss: 0.1921 - acc: 0.9417\n",
      "Epoch 52/150\n",
      "120/120 [==============================] - 0s 390us/step - loss: 0.1880 - acc: 0.9417\n",
      "Epoch 53/150\n",
      "120/120 [==============================] - 0s 366us/step - loss: 0.1847 - acc: 0.9417\n",
      "Epoch 54/150\n",
      "120/120 [==============================] - 0s 389us/step - loss: 0.1801 - acc: 0.9500\n",
      "Epoch 55/150\n",
      "120/120 [==============================] - 0s 395us/step - loss: 0.1765 - acc: 0.9500\n",
      "Epoch 56/150\n",
      "120/120 [==============================] - 0s 368us/step - loss: 0.1728 - acc: 0.9500\n",
      "Epoch 57/150\n",
      "120/120 [==============================] - 0s 401us/step - loss: 0.1699 - acc: 0.9500\n",
      "Epoch 58/150\n",
      "120/120 [==============================] - 0s 309us/step - loss: 0.1667 - acc: 0.9500\n",
      "Epoch 59/150\n",
      "120/120 [==============================] - 0s 283us/step - loss: 0.1623 - acc: 0.9500\n",
      "Epoch 60/150\n",
      "120/120 [==============================] - 0s 310us/step - loss: 0.1590 - acc: 0.9500\n",
      "Epoch 61/150\n",
      "120/120 [==============================] - 0s 291us/step - loss: 0.1567 - acc: 0.9500\n",
      "Epoch 62/150\n",
      "120/120 [==============================] - 0s 267us/step - loss: 0.1521 - acc: 0.9583\n",
      "Epoch 63/150\n",
      "120/120 [==============================] - 0s 276us/step - loss: 0.1499 - acc: 0.9583\n",
      "Epoch 64/150\n",
      "120/120 [==============================] - 0s 333us/step - loss: 0.1480 - acc: 0.9667\n",
      "Epoch 65/150\n",
      "120/120 [==============================] - 0s 523us/step - loss: 0.1442 - acc: 0.9667\n",
      "Epoch 66/150\n",
      "120/120 [==============================] - 0s 366us/step - loss: 0.1413 - acc: 0.9667\n",
      "Epoch 67/150\n",
      "120/120 [==============================] - 0s 374us/step - loss: 0.1381 - acc: 0.9667\n",
      "Epoch 68/150\n",
      "120/120 [==============================] - 0s 344us/step - loss: 0.1363 - acc: 0.9667\n",
      "Epoch 69/150\n",
      "120/120 [==============================] - 0s 360us/step - loss: 0.1334 - acc: 0.9667\n",
      "Epoch 70/150\n",
      "120/120 [==============================] - 0s 368us/step - loss: 0.1307 - acc: 0.9667\n",
      "Epoch 71/150\n",
      "120/120 [==============================] - 0s 331us/step - loss: 0.1280 - acc: 0.9667\n",
      "Epoch 72/150\n",
      "120/120 [==============================] - 0s 380us/step - loss: 0.1266 - acc: 0.9667\n",
      "Epoch 73/150\n",
      "120/120 [==============================] - 0s 343us/step - loss: 0.1244 - acc: 0.9667\n",
      "Epoch 74/150\n",
      "120/120 [==============================] - 0s 363us/step - loss: 0.1220 - acc: 0.9667\n",
      "Epoch 75/150\n",
      "120/120 [==============================] - 0s 383us/step - loss: 0.1195 - acc: 0.9667\n",
      "Epoch 76/150\n",
      "120/120 [==============================] - 0s 331us/step - loss: 0.1179 - acc: 0.9667\n",
      "Epoch 77/150\n",
      "120/120 [==============================] - 0s 348us/step - loss: 0.1162 - acc: 0.9667\n",
      "Epoch 78/150\n",
      "120/120 [==============================] - 0s 334us/step - loss: 0.1133 - acc: 0.9667\n",
      "Epoch 79/150\n",
      "120/120 [==============================] - 0s 365us/step - loss: 0.1115 - acc: 0.9667\n",
      "Epoch 80/150\n",
      "120/120 [==============================] - 0s 369us/step - loss: 0.1099 - acc: 0.9667\n",
      "Epoch 81/150\n",
      "120/120 [==============================] - 0s 338us/step - loss: 0.1086 - acc: 0.9667\n",
      "Epoch 82/150\n",
      "120/120 [==============================] - 0s 366us/step - loss: 0.1064 - acc: 0.9667\n",
      "Epoch 83/150\n"
     ]
    },
    {
     "name": "stdout",
     "output_type": "stream",
     "text": [
      "120/120 [==============================] - 0s 330us/step - loss: 0.1053 - acc: 0.9667\n",
      "Epoch 84/150\n",
      "120/120 [==============================] - 0s 359us/step - loss: 0.1035 - acc: 0.9667\n",
      "Epoch 85/150\n",
      "120/120 [==============================] - 0s 357us/step - loss: 0.1020 - acc: 0.9667\n",
      "Epoch 86/150\n",
      "120/120 [==============================] - 0s 397us/step - loss: 0.1008 - acc: 0.9667\n",
      "Epoch 87/150\n",
      "120/120 [==============================] - 0s 355us/step - loss: 0.0991 - acc: 0.9667\n",
      "Epoch 88/150\n",
      "120/120 [==============================] - 0s 371us/step - loss: 0.0976 - acc: 0.9667\n",
      "Epoch 89/150\n",
      "120/120 [==============================] - 0s 382us/step - loss: 0.0961 - acc: 0.9667\n",
      "Epoch 90/150\n",
      "120/120 [==============================] - 0s 369us/step - loss: 0.0955 - acc: 0.9667\n",
      "Epoch 91/150\n",
      "120/120 [==============================] - 0s 345us/step - loss: 0.0942 - acc: 0.9750\n",
      "Epoch 92/150\n",
      "120/120 [==============================] - 0s 361us/step - loss: 0.0928 - acc: 0.9667\n",
      "Epoch 93/150\n",
      "120/120 [==============================] - 0s 350us/step - loss: 0.0917 - acc: 0.9750\n",
      "Epoch 94/150\n",
      "120/120 [==============================] - 0s 333us/step - loss: 0.0903 - acc: 0.9667\n",
      "Epoch 95/150\n",
      "120/120 [==============================] - 0s 332us/step - loss: 0.0894 - acc: 0.9667\n",
      "Epoch 96/150\n",
      "120/120 [==============================] - 0s 408us/step - loss: 0.0882 - acc: 0.9750\n",
      "Epoch 97/150\n",
      "120/120 [==============================] - 0s 319us/step - loss: 0.0871 - acc: 0.9750\n",
      "Epoch 98/150\n",
      "120/120 [==============================] - 0s 332us/step - loss: 0.0858 - acc: 0.9750\n",
      "Epoch 99/150\n",
      "120/120 [==============================] - 0s 333us/step - loss: 0.0849 - acc: 0.9750\n",
      "Epoch 100/150\n",
      "120/120 [==============================] - 0s 343us/step - loss: 0.0842 - acc: 0.9750\n",
      "Epoch 101/150\n",
      "120/120 [==============================] - 0s 388us/step - loss: 0.0829 - acc: 0.9750\n",
      "Epoch 102/150\n",
      "120/120 [==============================] - 0s 374us/step - loss: 0.0820 - acc: 0.9750\n",
      "Epoch 103/150\n",
      "120/120 [==============================] - 0s 377us/step - loss: 0.0818 - acc: 0.9750\n",
      "Epoch 104/150\n",
      "120/120 [==============================] - 0s 317us/step - loss: 0.0809 - acc: 0.9750\n",
      "Epoch 105/150\n",
      "120/120 [==============================] - 0s 364us/step - loss: 0.0799 - acc: 0.9750\n",
      "Epoch 106/150\n",
      "120/120 [==============================] - 0s 396us/step - loss: 0.0787 - acc: 0.9750\n",
      "Epoch 107/150\n",
      "120/120 [==============================] - 0s 372us/step - loss: 0.0784 - acc: 0.9750\n",
      "Epoch 108/150\n",
      "120/120 [==============================] - 0s 392us/step - loss: 0.0772 - acc: 0.9750\n",
      "Epoch 109/150\n",
      "120/120 [==============================] - 0s 386us/step - loss: 0.0781 - acc: 0.9750\n",
      "Epoch 110/150\n",
      "120/120 [==============================] - 0s 372us/step - loss: 0.0766 - acc: 0.9750\n",
      "Epoch 111/150\n",
      "120/120 [==============================] - 0s 391us/step - loss: 0.0759 - acc: 0.9750\n",
      "Epoch 112/150\n",
      "120/120 [==============================] - 0s 368us/step - loss: 0.0751 - acc: 0.9750\n",
      "Epoch 113/150\n",
      "120/120 [==============================] - 0s 348us/step - loss: 0.0742 - acc: 0.9750\n",
      "Epoch 114/150\n",
      "120/120 [==============================] - 0s 347us/step - loss: 0.0730 - acc: 0.9750\n",
      "Epoch 115/150\n",
      "120/120 [==============================] - 0s 326us/step - loss: 0.0735 - acc: 0.9750\n",
      "Epoch 116/150\n",
      "120/120 [==============================] - 0s 354us/step - loss: 0.0720 - acc: 0.9750\n",
      "Epoch 117/150\n",
      "120/120 [==============================] - 0s 361us/step - loss: 0.0711 - acc: 0.9750\n",
      "Epoch 118/150\n",
      "120/120 [==============================] - 0s 346us/step - loss: 0.0710 - acc: 0.9750\n",
      "Epoch 119/150\n",
      "120/120 [==============================] - 0s 348us/step - loss: 0.0700 - acc: 0.9750\n",
      "Epoch 120/150\n",
      "120/120 [==============================] - 0s 397us/step - loss: 0.0697 - acc: 0.9750\n",
      "Epoch 121/150\n",
      "120/120 [==============================] - 0s 375us/step - loss: 0.0690 - acc: 0.9750\n",
      "Epoch 122/150\n",
      "120/120 [==============================] - 0s 358us/step - loss: 0.0682 - acc: 0.9750\n",
      "Epoch 123/150\n",
      "120/120 [==============================] - 0s 374us/step - loss: 0.0676 - acc: 0.9750\n",
      "Epoch 124/150\n",
      "120/120 [==============================] - 0s 315us/step - loss: 0.0673 - acc: 0.9750\n",
      "Epoch 125/150\n",
      "120/120 [==============================] - 0s 401us/step - loss: 0.0673 - acc: 0.9750\n",
      "Epoch 126/150\n",
      "120/120 [==============================] - 0s 328us/step - loss: 0.0663 - acc: 0.9750\n",
      "Epoch 127/150\n",
      "120/120 [==============================] - 0s 377us/step - loss: 0.0668 - acc: 0.9750\n",
      "Epoch 128/150\n",
      "120/120 [==============================] - 0s 354us/step - loss: 0.0651 - acc: 0.9750\n",
      "Epoch 129/150\n",
      "120/120 [==============================] - 0s 402us/step - loss: 0.0650 - acc: 0.9750\n",
      "Epoch 130/150\n",
      "120/120 [==============================] - 0s 363us/step - loss: 0.0643 - acc: 0.9750\n",
      "Epoch 131/150\n",
      "120/120 [==============================] - 0s 365us/step - loss: 0.0640 - acc: 0.9750\n",
      "Epoch 132/150\n",
      "120/120 [==============================] - 0s 362us/step - loss: 0.0638 - acc: 0.9750\n",
      "Epoch 133/150\n",
      "120/120 [==============================] - 0s 416us/step - loss: 0.0629 - acc: 0.9750\n",
      "Epoch 134/150\n",
      "120/120 [==============================] - 0s 348us/step - loss: 0.0627 - acc: 0.9750\n",
      "Epoch 135/150\n",
      "120/120 [==============================] - 0s 368us/step - loss: 0.0622 - acc: 0.9750\n",
      "Epoch 136/150\n",
      "120/120 [==============================] - 0s 374us/step - loss: 0.0619 - acc: 0.9750\n",
      "Epoch 137/150\n",
      "120/120 [==============================] - 0s 344us/step - loss: 0.0619 - acc: 0.9833\n",
      "Epoch 138/150\n",
      "120/120 [==============================] - 0s 387us/step - loss: 0.0609 - acc: 0.9750\n",
      "Epoch 139/150\n",
      "120/120 [==============================] - 0s 347us/step - loss: 0.0606 - acc: 0.9750\n",
      "Epoch 140/150\n",
      "120/120 [==============================] - 0s 335us/step - loss: 0.0608 - acc: 0.9750\n",
      "Epoch 141/150\n",
      "120/120 [==============================] - 0s 321us/step - loss: 0.0598 - acc: 0.9833\n",
      "Epoch 142/150\n",
      "120/120 [==============================] - 0s 350us/step - loss: 0.0596 - acc: 0.9750\n",
      "Epoch 143/150\n",
      "120/120 [==============================] - 0s 351us/step - loss: 0.0592 - acc: 0.9750\n",
      "Epoch 144/150\n",
      "120/120 [==============================] - 0s 337us/step - loss: 0.0590 - acc: 0.9833\n",
      "Epoch 145/150\n",
      "120/120 [==============================] - 0s 366us/step - loss: 0.0585 - acc: 0.9750\n",
      "Epoch 146/150\n",
      "120/120 [==============================] - 0s 326us/step - loss: 0.0586 - acc: 0.9750\n",
      "Epoch 147/150\n",
      "120/120 [==============================] - 0s 346us/step - loss: 0.0579 - acc: 0.9750\n",
      "Epoch 148/150\n",
      "120/120 [==============================] - 0s 374us/step - loss: 0.0577 - acc: 0.9833\n",
      "Epoch 149/150\n",
      "120/120 [==============================] - 0s 333us/step - loss: 0.0578 - acc: 0.9833\n",
      "Epoch 150/150\n",
      "120/120 [==============================] - 0s 375us/step - loss: 0.0571 - acc: 0.9833\n"
     ]
    }
   ],
   "source": [
    "# Fitting the ANN to the Training set\n",
    "training = classifier.fit(X_train, y_train, batch_size = 5, epochs = 150)"
   ]
  },
  {
   "cell_type": "code",
   "execution_count": 23,
   "metadata": {},
   "outputs": [],
   "source": [
    "import matplotlib.pyplot as plt\n",
    "%matplotlib inline"
   ]
  },
  {
   "cell_type": "code",
   "execution_count": 24,
   "metadata": {},
   "outputs": [
    {
     "data": {
      "image/png": "[encoded data removed]",
      "text/plain": [
       "<Figure size 432x288 with 1 Axes>"
      ]
     },
     "metadata": {},
     "output_type": "display_data"
    }
   ],
   "source": [
    "# summarize history for accuracy\n",
    "plt.plot(training.history['acc'])\n",
    "plt.title('model accuracy')\n",
    "plt.ylabel('accuracy')\n",
    "plt.xlabel('epoch')\n",
    "plt.legend(['train'], loc='upper right')\n",
    "plt.show()"
   ]
  },
  {
   "cell_type": "code",
   "execution_count": 25,
   "metadata": {},
   "outputs": [
    {
     "data": {
      "image/png": "[encoded data removed]",
      "text/plain": [
       "<Figure size 432x288 with 1 Axes>"
      ]
     },
     "metadata": {},
     "output_type": "display_data"
    }
   ],
   "source": [
    "# summarize history for accuracy\n",
    "plt.plot(training.history['loss'])\n",
    "plt.title('model loss graph')\n",
    "plt.ylabel('loss')\n",
    "plt.xlabel('epoch')\n",
    "plt.legend(['train'], loc='upper left')\n",
    "plt.show()"
   ]
  },
  {
   "cell_type": "markdown",
   "metadata": {},
   "source": [
    "### Predicting the class for test set"
   ]
  },
  {
   "cell_type": "code",
   "execution_count": 26,
   "metadata": {},
   "outputs": [],
   "source": [
    "# Predicting the Test set results\n",
    "y_pred = classifier.predict(X_test)"
   ]
  },
  {
   "cell_type": "code",
   "execution_count": 27,
   "metadata": {},
   "outputs": [],
   "source": [
    "y_pred_binary = []"
   ]
  },
  {
   "cell_type": "code",
   "execution_count": 28,
   "metadata": {},
   "outputs": [],
   "source": [
    "for i in range(y_pred.shape[0]):\n",
    "    if y_pred[i][0] > y_pred[i][1] and y_pred[i][0] > y_pred[i][2]:\n",
    "        y_pred_binary.append([1.0,0.0,0.0])\n",
    "    elif y_pred[i][1] > y_pred[i][0] and y_pred[i][1] > y_pred[i][2]:\n",
    "        y_pred_binary.append([0.0,1.0,0.0])\n",
    "    else:\n",
    "        y_pred_binary.append([0.0,0.0,1.0])"
   ]
  },
  {
   "cell_type": "code",
   "execution_count": 29,
   "metadata": {},
   "outputs": [],
   "source": [
    "y_pred_binary = np.array(y_pred_binary)"
   ]
  },
  {
   "cell_type": "code",
   "execution_count": 30,
   "metadata": {},
   "outputs": [
    {
     "data": {
      "text/plain": [
       "array([[ True,  True,  True],\n",
       "       [ True,  True,  True],\n",
       "       [ True,  True,  True],\n",
       "       [ True,  True,  True],\n",
       "       [ True,  True,  True],\n",
       "       [ True,  True,  True],\n",
       "       [ True,  True,  True],\n",
       "       [ True,  True,  True],\n",
       "       [ True,  True,  True],\n",
       "       [ True,  True,  True],\n",
       "       [ True,  True,  True],\n",
       "       [ True,  True,  True],\n",
       "       [ True,  True,  True],\n",
       "       [ True,  True,  True],\n",
       "       [ True,  True,  True],\n",
       "       [ True,  True,  True],\n",
       "       [ True,  True,  True],\n",
       "       [ True, False, False],\n",
       "       [ True,  True,  True],\n",
       "       [ True,  True,  True],\n",
       "       [ True,  True,  True],\n",
       "       [ True,  True,  True],\n",
       "       [ True,  True,  True],\n",
       "       [ True,  True,  True],\n",
       "       [ True,  True,  True],\n",
       "       [ True,  True,  True],\n",
       "       [ True,  True,  True],\n",
       "       [ True,  True,  True],\n",
       "       [ True,  True,  True],\n",
       "       [ True,  True,  True]])"
      ]
     },
     "execution_count": 30,
     "metadata": {},
     "output_type": "execute_result"
    }
   ],
   "source": [
    "#y_pred_binary\n",
    "y_test == y_pred_binary"
   ]
  },
  {
   "cell_type": "code",
   "execution_count": null,
   "metadata": {},
   "outputs": [],
   "source": []
  }
 ],
 "metadata": {
  "kernelspec": {
   "display_name": "Python [conda env:pyDL]",
   "language": "python",
   "name": "conda-env-pyDL-py"
  },
  "language_info": {
   "codemirror_mode": {
    "name": "ipython",
    "version": 3
   },
   "file_extension": ".py",
   "mimetype": "text/x-python",
   "name": "python",
   "nbconvert_exporter": "python",
   "pygments_lexer": "ipython3",
   "version": "3.5.5"
  }
 },
 "nbformat": 4,
 "nbformat_minor": 2
}
